{
 "cells": [
  {
   "cell_type": "markdown",
   "metadata": {},
   "source": [
    "#### <b> Курсовая работа по дисциплине СИАОД </b>\n",
    "\n",
    "## Выполнил студент группы БВТ2101 Абдукулов Амир Хуршедович"
   ]
  },
  {
   "cell_type": "markdown",
   "metadata": {},
   "source": [
    "<b>Задание:</b>\n",
    "Написать программу, которая будет считывать данные из CSV файла, содержащего\n",
    "информацию о продажах товаров в магазине. Данные в файле содержатся в следующем\n",
    "формате:\n",
    "| Номер заказа | Дата заказа | Название товара | Категория товара | Количество продаж | Цена\n",
    "за единицу | Общая стоимость |\n",
    "Необходимо:\n",
    "1. Рассчитать общую выручку магазина.\n",
    "2. Найти товар, который был продан наибольшее количество раз.\n",
    "3. Найти товар, который принес наибольшую выручку.\n",
    "4. Составить отчет, содержащий информацию об общей выручке магазина, количестве\n",
    "проданных единиц каждого товар и доле каждого товара в общей выручке.\n",
    "Для решения задач необходимо использовать структуры данных, такие как массивы и\n",
    "хеш-таблицы, а также различные алгоритмы обработки данных, например, сортировку и поиск.\n",
    "Также необходимо учитывать возможные ошибки ввода-вывода и обрабатывать их в\n",
    "соответствии с требованиями"
   ]
  },
  {
   "cell_type": "code",
   "execution_count": 66,
   "metadata": {},
   "outputs": [
    {
     "name": "stdout",
     "output_type": "stream",
     "text": [
      "Общая выручка магазина равна: 241969500\n"
     ]
    }
   ],
   "source": [
    "# Расчет общей выручки магазина\n",
    "import csv\n",
    "\n",
    "with open('files/table.csv', newline='', encoding='utf-8') as csvfile:\n",
    "    reader = csv.reader(csvfile, delimiter=';', skipinitialspace=True)\n",
    "    next(reader) # пропустить первую строку, содержащую заголовок\n",
    "\n",
    "    total_revenue = 0\n",
    "    # Проход по строкам файла и подсчет общей выручки\n",
    "    for row in reader:\n",
    "        revenue = int(row[6])\n",
    "        total_revenue += revenue\n",
    "\n",
    "    # Вывод итоговой выручки\n",
    "    print('Общая выручка магазина равна:', total_revenue)"
   ]
  },
  {
   "cell_type": "code",
   "execution_count": 67,
   "metadata": {},
   "outputs": [
    {
     "name": "stdout",
     "output_type": "stream",
     "text": [
      "Самый продаваемый товар: Apple iPhone 14! Общее количество продаж: 500\n"
     ]
    }
   ],
   "source": [
    "# Товар, который был продан наибольшее кол-во раз\n",
    "\n",
    "with open('files/table.csv', newline='', encoding='utf-8') as csvfile:\n",
    "    # Создаем объект csv.reader\n",
    "    reader = csv.reader(csvfile, delimiter=';', skipinitialspace=True)\n",
    "    next(reader)  # Пропускаем заголовок\n",
    "\n",
    "    # Создаем пустой словарь для подсчета продаж каждого товара\n",
    "    sales = {}\n",
    "\n",
    "    # Итерируемся по строкам файла\n",
    "    for row in reader:\n",
    "        item = row[2]  # Название товара в третьем столбце\n",
    "\n",
    "        # Если этот товар уже есть в словаре, увеличиваем его количество продаж\n",
    "        if item in sales:\n",
    "            sales[item] += int(row[4])\n",
    "        # Если товара в словаре еще нет, добавляем его и количество продаж равное текущей строке\n",
    "        else:\n",
    "            sales[item] = int(row[4])\n",
    "\n",
    "    # Находим товар, который был продан наибольшее количество раз\n",
    "    max_item = max(sales, key=sales.get)\n",
    "\n",
    "    # Выводим результат\n",
    "    print(f'Самый продаваемый товар: {max_item}! Общее количество продаж: {sales[max_item]}')"
   ]
  },
  {
   "cell_type": "code",
   "execution_count": 68,
   "metadata": {},
   "outputs": [
    {
     "name": "stdout",
     "output_type": "stream",
     "text": [
      "Самый прибыльный товар: Apple iPhone 14! Выручка: 44995000 руб.\n"
     ]
    }
   ],
   "source": [
    "# Товар, который принес наибольшую выручку\n",
    "\n",
    "with open('files/table.csv', newline='', encoding='utf-8') as csvfile:\n",
    "    # Создаем объект csv.reader\n",
    "    reader = csv.reader(csvfile, delimiter=';', skipinitialspace=True)\n",
    "    next(reader)  # Пропускаем заголовок\n",
    "    \n",
    "    max_revenue = 0\n",
    "    best_item = ''\n",
    "    \n",
    "    # проходим по каждой строке таблицы\n",
    "    for row in reader:\n",
    "        revenue = int(row[6]) # выручка - седьмой столбец\n",
    "        \n",
    "        if revenue > max_revenue:\n",
    "            max_revenue = revenue\n",
    "            best_item = row[2] # название товара - третий столбец\n",
    "    \n",
    "    # выводим результат\n",
    "    print(f'Самый прибыльный товар: {best_item}! Выручка: {max_revenue} руб.')"
   ]
  },
  {
   "cell_type": "code",
   "execution_count": 69,
   "metadata": {},
   "outputs": [],
   "source": [
    "# Сортировка Шелла\n",
    "def shell_sort(arr): \n",
    "    gap = len(arr) // 2 \n",
    "    while gap > 0: \n",
    "        for i in range(gap, len(arr)): \n",
    "            temp = arr[i] \n",
    "            j = i \n",
    "            while j >= gap and arr[j - gap][1][0] < temp[1][0]: \n",
    "                arr[j] = arr[j - gap] \n",
    "                j -= gap \n",
    "            arr[j] = temp \n",
    "        gap //= 2 \n",
    "    return arr"
   ]
  },
  {
   "cell_type": "code",
   "execution_count": 70,
   "metadata": {},
   "outputs": [],
   "source": [
    "# Метод бинарного поиска\n",
    "def binarysearch(array, target):\n",
    "    left = 0\n",
    "    right = len(array) - 1\n",
    "    \n",
    "    result = None\n",
    "    while left <= right:\n",
    "        mid = (left + right) // 2\n",
    "        if array[mid][1][0] == target:\n",
    "            result = mid\n",
    "            break\n",
    "        elif array[mid][1][0] < target:\n",
    "            left = mid + 1\n",
    "        else:\n",
    "            right = mid - 1\n",
    "            result = mid\n",
    "    \n",
    "    if result is None:\n",
    "        return None\n",
    "    \n",
    "    # возвращаем ближайшее значение\n",
    "    while result > 0 and array[result-1][1][0] == array[result][1][0]:\n",
    "        result -= 1\n",
    "    \n",
    "    return result"
   ]
  },
  {
   "cell_type": "code",
   "execution_count": 71,
   "metadata": {},
   "outputs": [
    {
     "name": "stdout",
     "output_type": "stream",
     "text": [
      "Общая выручка: 241969500.0\n",
      "Название товара               Количество продаж             Общая стоимость               Процент                      \n",
      "Apple iPhone 14               500                           44995000.0                    18.60%                       \n",
      "Philips Hue Smart Bulbs       500                           1495000.0                     0.62%                        \n",
      "Samsung Galaxy S22 Ultra      300                           29997000.0                    12.40%                       \n",
      "Игровые приставки             200                           11998000.0                    4.96%                        \n",
      "Apple iPad Pro 12.9           200                           17998000.0                    7.44%                        \n",
      "Philips Sonicare DiamondClean 200                           1998000.0                     0.83%                        \n",
      "LG OLED TV                    150                           26998500.0                    11.16%                       \n",
      "Samsung Galaxy Watch 5        150                           4498500.0                     1.86%                        \n",
      "Apple MacBook Pro 16          100                           19999000.0                    8.27%                        \n",
      "Bose QuietComfort 55          100                           3499000.0                     1.45%                        \n",
      "Sony PlayStation 5 Pro        100                           5999000.0                     2.48%                        \n",
      "Bose SoundLink Revolve+       100                           2499000.0                     1.03%                        \n",
      "Nest Learning Thermostat      100                           1999000.0                     0.83%                        \n",
      "Samsung Galaxy Tab S8         75                            5249250.0                     2.17%                        \n",
      "Canon EOS R8                  75                            22499250.0                    9.30%                        \n",
      "Canon EOS R7                  50                            12499500.0                    5.17%                        \n",
      "LG UltraFine                  50                            4999500.0                     2.07%                        \n",
      "Samsung Galaxy Book Pro       50                            6499500.0                     2.69%                        \n",
      "DJI Mavic 3                   25                            3749750.0                     1.55%                        \n",
      "DJI Ronin 4D                  25                            12499750.0                    5.17%                        \n",
      "Самый прибыльный товар с наибольшей выручкой: Apple iPhone 14\n"
     ]
    }
   ],
   "source": [
    "import csv\n",
    "\n",
    "with open('files/table.csv', newline='', encoding='utf-8') as csvfile:\n",
    "    reader = csv.reader(csvfile, delimiter=';', skipinitialspace=True)\n",
    "    next(reader)\n",
    "    sales = {}\n",
    "    for row in reader:\n",
    "        name, category, quantity, price, total = row[2], row[3], int(row[4]), float(row[5]), float(row[6])\n",
    "        if name not in sales:\n",
    "            sales[name] = [0, 0.0] # Если товара еще не было, то создаем новую запись\n",
    "        sales[name][0] += quantity # Увеличиваем количество продаж для данного товара\n",
    "        sales[name][1] += total # Увеличиваем общую стоимость для данного товара\n",
    "\n",
    "sorted_sales = sorted(sales.items(), key=lambda x: x[1][0], reverse=True) \n",
    "sorted_sales = shell_sort(sorted_sales) \n",
    " \n",
    "result_most = binarysearch(sorted_sales, 25)\n",
    "if result_most is not None:\n",
    "    # если значение найдено\n",
    "    mostprofitableitem = sorted_sales[result_most][0]\n",
    "else:\n",
    "    # если значение не найдено\n",
    "    mostprofitableitem = None\n",
    "\n",
    "total_revenue = sum([sales[name][1] for name in sales]) \n",
    "print(\"Общая выручка:\", total_revenue) \n",
    "print(\"{:<29} {:<29} {:<29} {:<29}\".format(\"Название товара\", \"Количество продаж\", \"Общая стоимость\", \"Процент\")) \n",
    "for item in sorted_sales: \n",
    "    name = item[0] \n",
    "    quantity_sold = item[1][0] \n",
    "    revenue = item[1][1] \n",
    "    share = revenue / total_revenue \n",
    "    print(\"{:<29} {:<29} {:<29} {:<29.2%}\".format(name, quantity_sold, revenue, share))\n",
    "\n",
    "print(\"Самый прибыльный товар с наибольшей выручкой:\", mostprofitableitem)\n"
   ]
  },
  {
   "cell_type": "markdown",
   "metadata": {},
   "source": [
    "<b>Вывод:</b><br>\n",
    "В результате проделанной работы я научилась обрабатывать файлы, используя разные методы сортировки и поиска."
   ]
  }
 ],
 "metadata": {
  "kernelspec": {
   "display_name": "Python 3 (ipykernel)",
   "language": "python",
   "name": "python3"
  },
  "language_info": {
   "codemirror_mode": {
    "name": "ipython",
    "version": 3
   },
   "file_extension": ".py",
   "mimetype": "text/x-python",
   "name": "python",
   "nbconvert_exporter": "python",
   "pygments_lexer": "ipython3",
   "version": "3.10.7"
  }
 },
 "nbformat": 4,
 "nbformat_minor": 4
}
